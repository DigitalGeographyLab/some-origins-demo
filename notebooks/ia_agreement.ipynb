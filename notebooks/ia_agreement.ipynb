{
 "cells": [
  {
   "cell_type": "markdown",
   "metadata": {},
   "source": [
    "# Inter-annotator agreement"
   ]
  },
  {
   "cell_type": "code",
   "execution_count": 9,
   "metadata": {},
   "outputs": [],
   "source": [
    "# Import packages\n",
    "import pandas as pd\n",
    "import numpy as np\n",
    "from pycm import *"
   ]
  },
  {
   "cell_type": "markdown",
   "metadata": {},
   "source": [
    "## Load data and feed to PyCM"
   ]
  },
  {
   "cell_type": "code",
   "execution_count": 3,
   "metadata": {},
   "outputs": [],
   "source": [
    "df = pd.read_csv(\"expert_assessment.csv\", sep=\";\").drop('userid', axis=1)"
   ]
  },
  {
   "cell_type": "code",
   "execution_count": 4,
   "metadata": {},
   "outputs": [],
   "source": [
    "cm = ConfusionMatrix(actual_vector=df['expert_1'].tolist(), predict_vector=df['expert_2'].tolist())"
   ]
  },
  {
   "cell_type": "code",
   "execution_count": 13,
   "metadata": {},
   "outputs": [],
   "source": [
    "stats = cm.overall_stat"
   ]
  },
  {
   "cell_type": "code",
   "execution_count": 19,
   "metadata": {},
   "outputs": [
    {
     "data": {
      "text/plain": [
       "{'Overall ACC': 0.872093023255814,\n",
       " 'Kappa': 0.8354622363221461,\n",
       " 'Overall RACC': 0.22262844780962684,\n",
       " 'SOA1(Landis & Koch)': 'Almost Perfect',\n",
       " 'SOA2(Fleiss)': 'Excellent',\n",
       " 'SOA3(Altman)': 'Very Good',\n",
       " 'SOA4(Cicchetti)': 'Excellent',\n",
       " 'SOA5(Cramer)': 'None',\n",
       " 'SOA6(Matthews)': 'Strong',\n",
       " 'TNR Macro': 0.9967178853093615,\n",
       " 'TPR Macro': 'None',\n",
       " 'FPR Macro': 0.003282114690638549,\n",
       " 'FNR Macro': 'None',\n",
       " 'PPV Macro': 'None',\n",
       " 'ACC Macro': 0.9944388270980788,\n",
       " 'F1 Macro': 0.6533855694741302,\n",
       " 'TNR Micro': 0.9971576227390181,\n",
       " 'FPR Micro': 0.00284237726098191,\n",
       " 'TPR Micro': 0.872093023255814,\n",
       " 'FNR Micro': 0.12790697674418605,\n",
       " 'PPV Micro': 0.872093023255814,\n",
       " 'F1 Micro': 0.872093023255814,\n",
       " 'Scott PI': 0.8354267422845413,\n",
       " 'Gwet AC1': 0.8698450921173883,\n",
       " 'Bennett S': 0.869250645994832,\n",
       " 'Kappa Standard Error': 0.020718850256799433,\n",
       " 'Kappa 95% CI': (0.7948532898188192, 0.876071182825473),\n",
       " 'Chi-Squared': 'None',\n",
       " 'Phi-Squared': 'None',\n",
       " 'Cramer V': 'None',\n",
       " 'Chi-Squared DF': 2025,\n",
       " '95% CI': (0.8405247834797069, 0.903661263031921),\n",
       " 'Standard Error': 0.016106244783728085,\n",
       " 'Response Entropy': 3.3214500698723097,\n",
       " 'Reference Entropy': 3.2653926403473594,\n",
       " 'Cross Entropy': 3.2166629907596915,\n",
       " 'Joint Entropy': 3.928672213211263,\n",
       " 'Conditional Entropy': 0.6632795728639019,\n",
       " 'KL Divergence': 'None',\n",
       " 'Lambda B': 0.7943548387096774,\n",
       " 'Lambda A': 0.8016528925619835,\n",
       " 'Kappa Unbiased': 0.8354267422845413,\n",
       " 'Overall RACCU': 0.22279610600324493,\n",
       " 'Kappa No Prevalence': 0.7441860465116279,\n",
       " 'Mutual Information': 2.658170497008408,\n",
       " 'Overall J': (26.939750993261423, 0.5856467607230744),\n",
       " 'Hamming Loss': 0.12790697674418605,\n",
       " 'Zero-one Loss': 55,\n",
       " 'NIR': 0.4372093023255814,\n",
       " 'P-Value': 0.0,\n",
       " 'Overall CEN': 0.09191590139376236,\n",
       " 'Overall MCEN': 0.13939597710814428,\n",
       " 'Overall MCC': 0.8358399017189273,\n",
       " 'RR': 9.347826086956522,\n",
       " 'CBA': 0.6043031274429217,\n",
       " 'AUNU': 'None',\n",
       " 'AUNP': 'None',\n",
       " 'RCI': 0.8140431457350386,\n",
       " 'Pearson C': 'None',\n",
       " 'CSI': 'None',\n",
       " 'ARI': 0.8115704270501084}"
      ]
     },
     "execution_count": 19,
     "metadata": {},
     "output_type": "execute_result"
    }
   ],
   "source": [
    "stats"
   ]
  },
  {
   "cell_type": "code",
   "execution_count": null,
   "metadata": {},
   "outputs": [],
   "source": []
  }
 ],
 "metadata": {
  "kernelspec": {
   "display_name": "Python 3",
   "language": "python",
   "name": "python3"
  },
  "language_info": {
   "codemirror_mode": {
    "name": "ipython",
    "version": 3
   },
   "file_extension": ".py",
   "mimetype": "text/x-python",
   "name": "python",
   "nbconvert_exporter": "python",
   "pygments_lexer": "ipython3",
   "version": "3.7.7"
  }
 },
 "nbformat": 4,
 "nbformat_minor": 4
}
